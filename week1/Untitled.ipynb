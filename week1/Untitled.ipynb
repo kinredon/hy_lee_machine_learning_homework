{
 "cells": [
  {
   "cell_type": "code",
   "execution_count": 2,
   "metadata": {},
   "outputs": [],
   "source": [
    "import numpy as np\n",
    "import pandas as pd"
   ]
  },
  {
   "cell_type": "code",
   "execution_count": 5,
   "metadata": {},
   "outputs": [
    {
     "data": {
      "text/plain": [
       "0    1.0\n",
       "1    3.0\n",
       "2    5.0\n",
       "3    NaN\n",
       "4    8.0\n",
       "dtype: float64"
      ]
     },
     "execution_count": 5,
     "metadata": {},
     "output_type": "execute_result"
    }
   ],
   "source": [
    "s = pd.Series([1, 3, 5, np.nan, 8])\n",
    "s"
   ]
  },
  {
   "cell_type": "code",
   "execution_count": 6,
   "metadata": {},
   "outputs": [
    {
     "data": {
      "text/plain": [
       "DatetimeIndex(['2018-03-12', '2018-03-13', '2018-03-14', '2018-03-15',\n",
       "               '2018-03-16', '2018-03-17'],\n",
       "              dtype='datetime64[ns]', freq='D')"
      ]
     },
     "execution_count": 6,
     "metadata": {},
     "output_type": "execute_result"
    }
   ],
   "source": [
    "dates = pd.date_range('20180312', periods=6)\n",
    "dates"
   ]
  },
  {
   "cell_type": "code",
   "execution_count": 7,
   "metadata": {},
   "outputs": [
    {
     "data": {
      "text/html": [
       "<div>\n",
       "<style scoped>\n",
       "    .dataframe tbody tr th:only-of-type {\n",
       "        vertical-align: middle;\n",
       "    }\n",
       "\n",
       "    .dataframe tbody tr th {\n",
       "        vertical-align: top;\n",
       "    }\n",
       "\n",
       "    .dataframe thead th {\n",
       "        text-align: right;\n",
       "    }\n",
       "</style>\n",
       "<table border=\"1\" class=\"dataframe\">\n",
       "  <thead>\n",
       "    <tr style=\"text-align: right;\">\n",
       "      <th></th>\n",
       "      <th>A</th>\n",
       "      <th>B</th>\n",
       "      <th>C</th>\n",
       "      <th>D</th>\n",
       "    </tr>\n",
       "  </thead>\n",
       "  <tbody>\n",
       "    <tr>\n",
       "      <th>2018-03-12</th>\n",
       "      <td>-0.115835</td>\n",
       "      <td>1.518493</td>\n",
       "      <td>1.179542</td>\n",
       "      <td>1.593013</td>\n",
       "    </tr>\n",
       "    <tr>\n",
       "      <th>2018-03-13</th>\n",
       "      <td>0.759541</td>\n",
       "      <td>-0.668306</td>\n",
       "      <td>1.335360</td>\n",
       "      <td>1.072322</td>\n",
       "    </tr>\n",
       "    <tr>\n",
       "      <th>2018-03-14</th>\n",
       "      <td>0.235752</td>\n",
       "      <td>1.263220</td>\n",
       "      <td>-1.153892</td>\n",
       "      <td>2.056240</td>\n",
       "    </tr>\n",
       "    <tr>\n",
       "      <th>2018-03-15</th>\n",
       "      <td>0.031882</td>\n",
       "      <td>0.519852</td>\n",
       "      <td>0.978326</td>\n",
       "      <td>-0.218349</td>\n",
       "    </tr>\n",
       "    <tr>\n",
       "      <th>2018-03-16</th>\n",
       "      <td>0.413365</td>\n",
       "      <td>0.811383</td>\n",
       "      <td>-0.560488</td>\n",
       "      <td>1.138090</td>\n",
       "    </tr>\n",
       "    <tr>\n",
       "      <th>2018-03-17</th>\n",
       "      <td>-0.268854</td>\n",
       "      <td>-2.958245</td>\n",
       "      <td>0.048695</td>\n",
       "      <td>-0.943526</td>\n",
       "    </tr>\n",
       "  </tbody>\n",
       "</table>\n",
       "</div>"
      ],
      "text/plain": [
       "                   A         B         C         D\n",
       "2018-03-12 -0.115835  1.518493  1.179542  1.593013\n",
       "2018-03-13  0.759541 -0.668306  1.335360  1.072322\n",
       "2018-03-14  0.235752  1.263220 -1.153892  2.056240\n",
       "2018-03-15  0.031882  0.519852  0.978326 -0.218349\n",
       "2018-03-16  0.413365  0.811383 -0.560488  1.138090\n",
       "2018-03-17 -0.268854 -2.958245  0.048695 -0.943526"
      ]
     },
     "execution_count": 7,
     "metadata": {},
     "output_type": "execute_result"
    }
   ],
   "source": [
    "df = pd.DataFrame(np.random.randn(6, 4), index=dates, columns=list('ABCD'))\n",
    "df"
   ]
  },
  {
   "cell_type": "code",
   "execution_count": 8,
   "metadata": {},
   "outputs": [
    {
     "data": {
      "text/html": [
       "<div>\n",
       "<style scoped>\n",
       "    .dataframe tbody tr th:only-of-type {\n",
       "        vertical-align: middle;\n",
       "    }\n",
       "\n",
       "    .dataframe tbody tr th {\n",
       "        vertical-align: top;\n",
       "    }\n",
       "\n",
       "    .dataframe thead th {\n",
       "        text-align: right;\n",
       "    }\n",
       "</style>\n",
       "<table border=\"1\" class=\"dataframe\">\n",
       "  <thead>\n",
       "    <tr style=\"text-align: right;\">\n",
       "      <th></th>\n",
       "      <th>A</th>\n",
       "      <th>B</th>\n",
       "      <th>C</th>\n",
       "      <th>D</th>\n",
       "      <th>E</th>\n",
       "      <th>F</th>\n",
       "    </tr>\n",
       "  </thead>\n",
       "  <tbody>\n",
       "    <tr>\n",
       "      <th>0</th>\n",
       "      <td>1.0</td>\n",
       "      <td>2013-01-02</td>\n",
       "      <td>1.0</td>\n",
       "      <td>3</td>\n",
       "      <td>test</td>\n",
       "      <td>foo</td>\n",
       "    </tr>\n",
       "    <tr>\n",
       "      <th>1</th>\n",
       "      <td>1.0</td>\n",
       "      <td>2013-01-02</td>\n",
       "      <td>1.0</td>\n",
       "      <td>3</td>\n",
       "      <td>train</td>\n",
       "      <td>foo</td>\n",
       "    </tr>\n",
       "    <tr>\n",
       "      <th>2</th>\n",
       "      <td>1.0</td>\n",
       "      <td>2013-01-02</td>\n",
       "      <td>1.0</td>\n",
       "      <td>3</td>\n",
       "      <td>test</td>\n",
       "      <td>foo</td>\n",
       "    </tr>\n",
       "    <tr>\n",
       "      <th>3</th>\n",
       "      <td>1.0</td>\n",
       "      <td>2013-01-02</td>\n",
       "      <td>1.0</td>\n",
       "      <td>3</td>\n",
       "      <td>train</td>\n",
       "      <td>foo</td>\n",
       "    </tr>\n",
       "  </tbody>\n",
       "</table>\n",
       "</div>"
      ],
      "text/plain": [
       "     A          B    C  D      E    F\n",
       "0  1.0 2013-01-02  1.0  3   test  foo\n",
       "1  1.0 2013-01-02  1.0  3  train  foo\n",
       "2  1.0 2013-01-02  1.0  3   test  foo\n",
       "3  1.0 2013-01-02  1.0  3  train  foo"
      ]
     },
     "execution_count": 8,
     "metadata": {},
     "output_type": "execute_result"
    }
   ],
   "source": [
    "df2 = pd.DataFrame({'A': 1.,\n",
    "                        'B': pd.Timestamp('20130102'),\n",
    "                        'C': pd.Series(1, index=list(range(4)), dtype='float32'),\n",
    "                        'D': np.array([3] * 4, dtype='int32'),\n",
    "                        'E': pd.Categorical([\"test\", \"train\", \"test\", \"train\"]),\n",
    "                        'F': 'foo'})\n",
    "df2"
   ]
  },
  {
   "cell_type": "code",
   "execution_count": 9,
   "metadata": {},
   "outputs": [
    {
     "data": {
      "text/plain": [
       "A           float64\n",
       "B    datetime64[ns]\n",
       "C           float32\n",
       "D             int32\n",
       "E          category\n",
       "F            object\n",
       "dtype: object"
      ]
     },
     "execution_count": 9,
     "metadata": {},
     "output_type": "execute_result"
    }
   ],
   "source": [
    "df2.dtypes"
   ]
  },
  {
   "cell_type": "code",
   "execution_count": 10,
   "metadata": {},
   "outputs": [
    {
     "data": {
      "text/html": [
       "<div>\n",
       "<style scoped>\n",
       "    .dataframe tbody tr th:only-of-type {\n",
       "        vertical-align: middle;\n",
       "    }\n",
       "\n",
       "    .dataframe tbody tr th {\n",
       "        vertical-align: top;\n",
       "    }\n",
       "\n",
       "    .dataframe thead th {\n",
       "        text-align: right;\n",
       "    }\n",
       "</style>\n",
       "<table border=\"1\" class=\"dataframe\">\n",
       "  <thead>\n",
       "    <tr style=\"text-align: right;\">\n",
       "      <th></th>\n",
       "      <th>A</th>\n",
       "      <th>B</th>\n",
       "      <th>C</th>\n",
       "      <th>D</th>\n",
       "    </tr>\n",
       "  </thead>\n",
       "  <tbody>\n",
       "    <tr>\n",
       "      <th>2018-03-12</th>\n",
       "      <td>-0.115835</td>\n",
       "      <td>1.518493</td>\n",
       "      <td>1.179542</td>\n",
       "      <td>1.593013</td>\n",
       "    </tr>\n",
       "    <tr>\n",
       "      <th>2018-03-13</th>\n",
       "      <td>0.759541</td>\n",
       "      <td>-0.668306</td>\n",
       "      <td>1.335360</td>\n",
       "      <td>1.072322</td>\n",
       "    </tr>\n",
       "    <tr>\n",
       "      <th>2018-03-14</th>\n",
       "      <td>0.235752</td>\n",
       "      <td>1.263220</td>\n",
       "      <td>-1.153892</td>\n",
       "      <td>2.056240</td>\n",
       "    </tr>\n",
       "    <tr>\n",
       "      <th>2018-03-15</th>\n",
       "      <td>0.031882</td>\n",
       "      <td>0.519852</td>\n",
       "      <td>0.978326</td>\n",
       "      <td>-0.218349</td>\n",
       "    </tr>\n",
       "    <tr>\n",
       "      <th>2018-03-16</th>\n",
       "      <td>0.413365</td>\n",
       "      <td>0.811383</td>\n",
       "      <td>-0.560488</td>\n",
       "      <td>1.138090</td>\n",
       "    </tr>\n",
       "  </tbody>\n",
       "</table>\n",
       "</div>"
      ],
      "text/plain": [
       "                   A         B         C         D\n",
       "2018-03-12 -0.115835  1.518493  1.179542  1.593013\n",
       "2018-03-13  0.759541 -0.668306  1.335360  1.072322\n",
       "2018-03-14  0.235752  1.263220 -1.153892  2.056240\n",
       "2018-03-15  0.031882  0.519852  0.978326 -0.218349\n",
       "2018-03-16  0.413365  0.811383 -0.560488  1.138090"
      ]
     },
     "execution_count": 10,
     "metadata": {},
     "output_type": "execute_result"
    }
   ],
   "source": [
    "df.head()"
   ]
  },
  {
   "cell_type": "code",
   "execution_count": 11,
   "metadata": {},
   "outputs": [
    {
     "data": {
      "text/html": [
       "<div>\n",
       "<style scoped>\n",
       "    .dataframe tbody tr th:only-of-type {\n",
       "        vertical-align: middle;\n",
       "    }\n",
       "\n",
       "    .dataframe tbody tr th {\n",
       "        vertical-align: top;\n",
       "    }\n",
       "\n",
       "    .dataframe thead th {\n",
       "        text-align: right;\n",
       "    }\n",
       "</style>\n",
       "<table border=\"1\" class=\"dataframe\">\n",
       "  <thead>\n",
       "    <tr style=\"text-align: right;\">\n",
       "      <th></th>\n",
       "      <th>A</th>\n",
       "      <th>B</th>\n",
       "      <th>C</th>\n",
       "      <th>D</th>\n",
       "    </tr>\n",
       "  </thead>\n",
       "  <tbody>\n",
       "    <tr>\n",
       "      <th>2018-03-13</th>\n",
       "      <td>0.759541</td>\n",
       "      <td>-0.668306</td>\n",
       "      <td>1.335360</td>\n",
       "      <td>1.072322</td>\n",
       "    </tr>\n",
       "    <tr>\n",
       "      <th>2018-03-14</th>\n",
       "      <td>0.235752</td>\n",
       "      <td>1.263220</td>\n",
       "      <td>-1.153892</td>\n",
       "      <td>2.056240</td>\n",
       "    </tr>\n",
       "    <tr>\n",
       "      <th>2018-03-15</th>\n",
       "      <td>0.031882</td>\n",
       "      <td>0.519852</td>\n",
       "      <td>0.978326</td>\n",
       "      <td>-0.218349</td>\n",
       "    </tr>\n",
       "    <tr>\n",
       "      <th>2018-03-16</th>\n",
       "      <td>0.413365</td>\n",
       "      <td>0.811383</td>\n",
       "      <td>-0.560488</td>\n",
       "      <td>1.138090</td>\n",
       "    </tr>\n",
       "    <tr>\n",
       "      <th>2018-03-17</th>\n",
       "      <td>-0.268854</td>\n",
       "      <td>-2.958245</td>\n",
       "      <td>0.048695</td>\n",
       "      <td>-0.943526</td>\n",
       "    </tr>\n",
       "  </tbody>\n",
       "</table>\n",
       "</div>"
      ],
      "text/plain": [
       "                   A         B         C         D\n",
       "2018-03-13  0.759541 -0.668306  1.335360  1.072322\n",
       "2018-03-14  0.235752  1.263220 -1.153892  2.056240\n",
       "2018-03-15  0.031882  0.519852  0.978326 -0.218349\n",
       "2018-03-16  0.413365  0.811383 -0.560488  1.138090\n",
       "2018-03-17 -0.268854 -2.958245  0.048695 -0.943526"
      ]
     },
     "execution_count": 11,
     "metadata": {},
     "output_type": "execute_result"
    }
   ],
   "source": [
    "df.tail()"
   ]
  },
  {
   "cell_type": "code",
   "execution_count": 12,
   "metadata": {},
   "outputs": [
    {
     "data": {
      "text/plain": [
       "DatetimeIndex(['2018-03-12', '2018-03-13', '2018-03-14', '2018-03-15',\n",
       "               '2018-03-16', '2018-03-17'],\n",
       "              dtype='datetime64[ns]', freq='D')"
      ]
     },
     "execution_count": 12,
     "metadata": {},
     "output_type": "execute_result"
    }
   ],
   "source": [
    "df.index"
   ]
  },
  {
   "cell_type": "code",
   "execution_count": 13,
   "metadata": {},
   "outputs": [
    {
     "data": {
      "text/plain": [
       "Index(['A', 'B', 'C', 'D'], dtype='object')"
      ]
     },
     "execution_count": 13,
     "metadata": {},
     "output_type": "execute_result"
    }
   ],
   "source": [
    "df.columns"
   ]
  },
  {
   "cell_type": "code",
   "execution_count": 14,
   "metadata": {},
   "outputs": [
    {
     "data": {
      "text/plain": [
       "array([[-0.11583453,  1.51849277,  1.17954211,  1.59301258],\n",
       "       [ 0.75954122, -0.66830603,  1.33536038,  1.07232247],\n",
       "       [ 0.23575248,  1.26322037, -1.15389167,  2.05624011],\n",
       "       [ 0.03188176,  0.5198523 ,  0.97832631, -0.2183492 ],\n",
       "       [ 0.41336532,  0.81138335, -0.56048811,  1.13809039],\n",
       "       [-0.26885369, -2.95824458,  0.04869457, -0.94352649]])"
      ]
     },
     "execution_count": 14,
     "metadata": {},
     "output_type": "execute_result"
    }
   ],
   "source": [
    "df.to_numpy()"
   ]
  },
  {
   "cell_type": "code",
   "execution_count": 15,
   "metadata": {},
   "outputs": [
    {
     "data": {
      "text/plain": [
       "array([[1.0, Timestamp('2013-01-02 00:00:00'), 1.0, 3, 'test', 'foo'],\n",
       "       [1.0, Timestamp('2013-01-02 00:00:00'), 1.0, 3, 'train', 'foo'],\n",
       "       [1.0, Timestamp('2013-01-02 00:00:00'), 1.0, 3, 'test', 'foo'],\n",
       "       [1.0, Timestamp('2013-01-02 00:00:00'), 1.0, 3, 'train', 'foo']],\n",
       "      dtype=object)"
      ]
     },
     "execution_count": 15,
     "metadata": {},
     "output_type": "execute_result"
    }
   ],
   "source": [
    "df2.to_numpy()"
   ]
  },
  {
   "cell_type": "code",
   "execution_count": 16,
   "metadata": {},
   "outputs": [
    {
     "data": {
      "text/html": [
       "<div>\n",
       "<style scoped>\n",
       "    .dataframe tbody tr th:only-of-type {\n",
       "        vertical-align: middle;\n",
       "    }\n",
       "\n",
       "    .dataframe tbody tr th {\n",
       "        vertical-align: top;\n",
       "    }\n",
       "\n",
       "    .dataframe thead th {\n",
       "        text-align: right;\n",
       "    }\n",
       "</style>\n",
       "<table border=\"1\" class=\"dataframe\">\n",
       "  <thead>\n",
       "    <tr style=\"text-align: right;\">\n",
       "      <th></th>\n",
       "      <th>2018-03-12 00:00:00</th>\n",
       "      <th>2018-03-13 00:00:00</th>\n",
       "      <th>2018-03-14 00:00:00</th>\n",
       "      <th>2018-03-15 00:00:00</th>\n",
       "      <th>2018-03-16 00:00:00</th>\n",
       "      <th>2018-03-17 00:00:00</th>\n",
       "    </tr>\n",
       "  </thead>\n",
       "  <tbody>\n",
       "    <tr>\n",
       "      <th>A</th>\n",
       "      <td>-0.115835</td>\n",
       "      <td>0.759541</td>\n",
       "      <td>0.235752</td>\n",
       "      <td>0.031882</td>\n",
       "      <td>0.413365</td>\n",
       "      <td>-0.268854</td>\n",
       "    </tr>\n",
       "    <tr>\n",
       "      <th>B</th>\n",
       "      <td>1.518493</td>\n",
       "      <td>-0.668306</td>\n",
       "      <td>1.263220</td>\n",
       "      <td>0.519852</td>\n",
       "      <td>0.811383</td>\n",
       "      <td>-2.958245</td>\n",
       "    </tr>\n",
       "    <tr>\n",
       "      <th>C</th>\n",
       "      <td>1.179542</td>\n",
       "      <td>1.335360</td>\n",
       "      <td>-1.153892</td>\n",
       "      <td>0.978326</td>\n",
       "      <td>-0.560488</td>\n",
       "      <td>0.048695</td>\n",
       "    </tr>\n",
       "    <tr>\n",
       "      <th>D</th>\n",
       "      <td>1.593013</td>\n",
       "      <td>1.072322</td>\n",
       "      <td>2.056240</td>\n",
       "      <td>-0.218349</td>\n",
       "      <td>1.138090</td>\n",
       "      <td>-0.943526</td>\n",
       "    </tr>\n",
       "  </tbody>\n",
       "</table>\n",
       "</div>"
      ],
      "text/plain": [
       "   2018-03-12  2018-03-13  2018-03-14  2018-03-15  2018-03-16  2018-03-17\n",
       "A   -0.115835    0.759541    0.235752    0.031882    0.413365   -0.268854\n",
       "B    1.518493   -0.668306    1.263220    0.519852    0.811383   -2.958245\n",
       "C    1.179542    1.335360   -1.153892    0.978326   -0.560488    0.048695\n",
       "D    1.593013    1.072322    2.056240   -0.218349    1.138090   -0.943526"
      ]
     },
     "execution_count": 16,
     "metadata": {},
     "output_type": "execute_result"
    }
   ],
   "source": [
    "df.T"
   ]
  },
  {
   "cell_type": "code",
   "execution_count": 17,
   "metadata": {},
   "outputs": [
    {
     "data": {
      "text/html": [
       "<div>\n",
       "<style scoped>\n",
       "    .dataframe tbody tr th:only-of-type {\n",
       "        vertical-align: middle;\n",
       "    }\n",
       "\n",
       "    .dataframe tbody tr th {\n",
       "        vertical-align: top;\n",
       "    }\n",
       "\n",
       "    .dataframe thead th {\n",
       "        text-align: right;\n",
       "    }\n",
       "</style>\n",
       "<table border=\"1\" class=\"dataframe\">\n",
       "  <thead>\n",
       "    <tr style=\"text-align: right;\">\n",
       "      <th></th>\n",
       "      <th>D</th>\n",
       "      <th>C</th>\n",
       "      <th>B</th>\n",
       "      <th>A</th>\n",
       "    </tr>\n",
       "  </thead>\n",
       "  <tbody>\n",
       "    <tr>\n",
       "      <th>2018-03-12</th>\n",
       "      <td>1.593013</td>\n",
       "      <td>1.179542</td>\n",
       "      <td>1.518493</td>\n",
       "      <td>-0.115835</td>\n",
       "    </tr>\n",
       "    <tr>\n",
       "      <th>2018-03-13</th>\n",
       "      <td>1.072322</td>\n",
       "      <td>1.335360</td>\n",
       "      <td>-0.668306</td>\n",
       "      <td>0.759541</td>\n",
       "    </tr>\n",
       "    <tr>\n",
       "      <th>2018-03-14</th>\n",
       "      <td>2.056240</td>\n",
       "      <td>-1.153892</td>\n",
       "      <td>1.263220</td>\n",
       "      <td>0.235752</td>\n",
       "    </tr>\n",
       "    <tr>\n",
       "      <th>2018-03-15</th>\n",
       "      <td>-0.218349</td>\n",
       "      <td>0.978326</td>\n",
       "      <td>0.519852</td>\n",
       "      <td>0.031882</td>\n",
       "    </tr>\n",
       "    <tr>\n",
       "      <th>2018-03-16</th>\n",
       "      <td>1.138090</td>\n",
       "      <td>-0.560488</td>\n",
       "      <td>0.811383</td>\n",
       "      <td>0.413365</td>\n",
       "    </tr>\n",
       "    <tr>\n",
       "      <th>2018-03-17</th>\n",
       "      <td>-0.943526</td>\n",
       "      <td>0.048695</td>\n",
       "      <td>-2.958245</td>\n",
       "      <td>-0.268854</td>\n",
       "    </tr>\n",
       "  </tbody>\n",
       "</table>\n",
       "</div>"
      ],
      "text/plain": [
       "                   D         C         B         A\n",
       "2018-03-12  1.593013  1.179542  1.518493 -0.115835\n",
       "2018-03-13  1.072322  1.335360 -0.668306  0.759541\n",
       "2018-03-14  2.056240 -1.153892  1.263220  0.235752\n",
       "2018-03-15 -0.218349  0.978326  0.519852  0.031882\n",
       "2018-03-16  1.138090 -0.560488  0.811383  0.413365\n",
       "2018-03-17 -0.943526  0.048695 -2.958245 -0.268854"
      ]
     },
     "execution_count": 17,
     "metadata": {},
     "output_type": "execute_result"
    }
   ],
   "source": [
    "df.sort_index(axis=1, ascending=False)"
   ]
  },
  {
   "cell_type": "code",
   "execution_count": 18,
   "metadata": {},
   "outputs": [
    {
     "data": {
      "text/html": [
       "<div>\n",
       "<style scoped>\n",
       "    .dataframe tbody tr th:only-of-type {\n",
       "        vertical-align: middle;\n",
       "    }\n",
       "\n",
       "    .dataframe tbody tr th {\n",
       "        vertical-align: top;\n",
       "    }\n",
       "\n",
       "    .dataframe thead th {\n",
       "        text-align: right;\n",
       "    }\n",
       "</style>\n",
       "<table border=\"1\" class=\"dataframe\">\n",
       "  <thead>\n",
       "    <tr style=\"text-align: right;\">\n",
       "      <th></th>\n",
       "      <th>A</th>\n",
       "      <th>B</th>\n",
       "      <th>C</th>\n",
       "      <th>D</th>\n",
       "    </tr>\n",
       "  </thead>\n",
       "  <tbody>\n",
       "    <tr>\n",
       "      <th>2018-03-17</th>\n",
       "      <td>-0.268854</td>\n",
       "      <td>-2.958245</td>\n",
       "      <td>0.048695</td>\n",
       "      <td>-0.943526</td>\n",
       "    </tr>\n",
       "    <tr>\n",
       "      <th>2018-03-13</th>\n",
       "      <td>0.759541</td>\n",
       "      <td>-0.668306</td>\n",
       "      <td>1.335360</td>\n",
       "      <td>1.072322</td>\n",
       "    </tr>\n",
       "    <tr>\n",
       "      <th>2018-03-15</th>\n",
       "      <td>0.031882</td>\n",
       "      <td>0.519852</td>\n",
       "      <td>0.978326</td>\n",
       "      <td>-0.218349</td>\n",
       "    </tr>\n",
       "    <tr>\n",
       "      <th>2018-03-16</th>\n",
       "      <td>0.413365</td>\n",
       "      <td>0.811383</td>\n",
       "      <td>-0.560488</td>\n",
       "      <td>1.138090</td>\n",
       "    </tr>\n",
       "    <tr>\n",
       "      <th>2018-03-14</th>\n",
       "      <td>0.235752</td>\n",
       "      <td>1.263220</td>\n",
       "      <td>-1.153892</td>\n",
       "      <td>2.056240</td>\n",
       "    </tr>\n",
       "    <tr>\n",
       "      <th>2018-03-12</th>\n",
       "      <td>-0.115835</td>\n",
       "      <td>1.518493</td>\n",
       "      <td>1.179542</td>\n",
       "      <td>1.593013</td>\n",
       "    </tr>\n",
       "  </tbody>\n",
       "</table>\n",
       "</div>"
      ],
      "text/plain": [
       "                   A         B         C         D\n",
       "2018-03-17 -0.268854 -2.958245  0.048695 -0.943526\n",
       "2018-03-13  0.759541 -0.668306  1.335360  1.072322\n",
       "2018-03-15  0.031882  0.519852  0.978326 -0.218349\n",
       "2018-03-16  0.413365  0.811383 -0.560488  1.138090\n",
       "2018-03-14  0.235752  1.263220 -1.153892  2.056240\n",
       "2018-03-12 -0.115835  1.518493  1.179542  1.593013"
      ]
     },
     "execution_count": 18,
     "metadata": {},
     "output_type": "execute_result"
    }
   ],
   "source": [
    "df.sort_values(by='B')"
   ]
  },
  {
   "cell_type": "code",
   "execution_count": 19,
   "metadata": {},
   "outputs": [
    {
     "data": {
      "text/plain": [
       "2018-03-12   -0.115835\n",
       "2018-03-13    0.759541\n",
       "2018-03-14    0.235752\n",
       "2018-03-15    0.031882\n",
       "2018-03-16    0.413365\n",
       "2018-03-17   -0.268854\n",
       "Freq: D, Name: A, dtype: float64"
      ]
     },
     "execution_count": 19,
     "metadata": {},
     "output_type": "execute_result"
    }
   ],
   "source": [
    "df['A']"
   ]
  },
  {
   "cell_type": "code",
   "execution_count": 20,
   "metadata": {},
   "outputs": [
    {
     "data": {
      "text/html": [
       "<div>\n",
       "<style scoped>\n",
       "    .dataframe tbody tr th:only-of-type {\n",
       "        vertical-align: middle;\n",
       "    }\n",
       "\n",
       "    .dataframe tbody tr th {\n",
       "        vertical-align: top;\n",
       "    }\n",
       "\n",
       "    .dataframe thead th {\n",
       "        text-align: right;\n",
       "    }\n",
       "</style>\n",
       "<table border=\"1\" class=\"dataframe\">\n",
       "  <thead>\n",
       "    <tr style=\"text-align: right;\">\n",
       "      <th></th>\n",
       "      <th>A</th>\n",
       "      <th>B</th>\n",
       "      <th>C</th>\n",
       "      <th>D</th>\n",
       "    </tr>\n",
       "  </thead>\n",
       "  <tbody>\n",
       "    <tr>\n",
       "      <th>2018-03-12</th>\n",
       "      <td>-0.115835</td>\n",
       "      <td>1.518493</td>\n",
       "      <td>1.179542</td>\n",
       "      <td>1.593013</td>\n",
       "    </tr>\n",
       "    <tr>\n",
       "      <th>2018-03-13</th>\n",
       "      <td>0.759541</td>\n",
       "      <td>-0.668306</td>\n",
       "      <td>1.335360</td>\n",
       "      <td>1.072322</td>\n",
       "    </tr>\n",
       "    <tr>\n",
       "      <th>2018-03-14</th>\n",
       "      <td>0.235752</td>\n",
       "      <td>1.263220</td>\n",
       "      <td>-1.153892</td>\n",
       "      <td>2.056240</td>\n",
       "    </tr>\n",
       "  </tbody>\n",
       "</table>\n",
       "</div>"
      ],
      "text/plain": [
       "                   A         B         C         D\n",
       "2018-03-12 -0.115835  1.518493  1.179542  1.593013\n",
       "2018-03-13  0.759541 -0.668306  1.335360  1.072322\n",
       "2018-03-14  0.235752  1.263220 -1.153892  2.056240"
      ]
     },
     "execution_count": 20,
     "metadata": {},
     "output_type": "execute_result"
    }
   ],
   "source": [
    "df[0:3]"
   ]
  },
  {
   "cell_type": "code",
   "execution_count": 21,
   "metadata": {},
   "outputs": [
    {
     "data": {
      "text/plain": [
       "A   -0.115835\n",
       "B    1.518493\n",
       "C    1.179542\n",
       "D    1.593013\n",
       "Name: 2018-03-12 00:00:00, dtype: float64"
      ]
     },
     "execution_count": 21,
     "metadata": {},
     "output_type": "execute_result"
    }
   ],
   "source": [
    "df.loc[dates[0]]"
   ]
  },
  {
   "cell_type": "code",
   "execution_count": null,
   "metadata": {},
   "outputs": [],
   "source": []
  }
 ],
 "metadata": {
  "kernelspec": {
   "display_name": "Python3 tensorflow1.9",
   "language": "python",
   "name": "tensorflow"
  },
  "language_info": {
   "codemirror_mode": {
    "name": "ipython",
    "version": 3
   },
   "file_extension": ".py",
   "mimetype": "text/x-python",
   "name": "python",
   "nbconvert_exporter": "python",
   "pygments_lexer": "ipython3",
   "version": "3.6.3"
  }
 },
 "nbformat": 4,
 "nbformat_minor": 2
}
